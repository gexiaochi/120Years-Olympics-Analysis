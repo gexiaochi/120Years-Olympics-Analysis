{
 "cells": [
  {
   "cell_type": "markdown",
   "metadata": {},
   "source": [
    "<h1 align=\"center\"> \n",
    "DATS 6501 —Capstone Project (Part II)\n",
    "</h1> \n",
    "\n",
    "<h1 align=\"center\"> \n",
    "Olympic Games Analysis — Logistic Regression\n",
    "</h1> \n",
    "\n",
    "<h4 align=\"center\"> \n",
    "Author: Xiaochi Ge ([gexiaochi@gwu.edu](mailto:gexiaochi@gwu.edu))\n",
    "</h4>"
   ]
  },
  {
   "cell_type": "markdown",
   "metadata": {
    "collapsed": true
   },
   "source": [
    "## 1. Import Packagea & Read Data"
   ]
  },
  {
   "cell_type": "code",
   "execution_count": null,
   "metadata": {
    "collapsed": true
   },
   "outputs": [],
   "source": [
    "import numpy as np\n",
    "import pandas as pd"
   ]
  },
  {
   "cell_type": "code",
   "execution_count": 2,
   "metadata": {
    "collapsed": true
   },
   "outputs": [],
   "source": [
    "athletes = pd.read_csv('athlete_events.csv')\n",
    "regions = pd.read_csv('noc_regions.csv')\n",
    "olympic_data = pd.merge(athletes, regions, on='NOC', how='left')"
   ]
  },
  {
   "cell_type": "code",
   "execution_count": 3,
   "metadata": {
    "collapsed": true
   },
   "outputs": [],
   "source": [
    "olympic = olympic_data[['Sex','Age','Height','Weight','NOC','Sport','Medal']]\n",
    "#olympic.head()"
   ]
  },
  {
   "cell_type": "markdown",
   "metadata": {},
   "source": [
    "## 2. Fill-in Missing Data"
   ]
  },
  {
   "cell_type": "code",
   "execution_count": 4,
   "metadata": {},
   "outputs": [
    {
     "name": "stderr",
     "output_type": "stream",
     "text": [
      "/Users/apple/anaconda3/lib/python3.6/site-packages/pandas/core/generic.py:3660: SettingWithCopyWarning: \n",
      "A value is trying to be set on a copy of a slice from a DataFrame\n",
      "\n",
      "See the caveats in the documentation: http://pandas.pydata.org/pandas-docs/stable/indexing.html#indexing-view-versus-copy\n",
      "  self._update_inplace(new_data)\n"
     ]
    }
   ],
   "source": [
    "olympic['Medal'].fillna(('Lose'), inplace=True)\n",
    "olympic['Age'].fillna((olympic['Age'].median()), inplace=True)\n",
    "olympic['Height'].fillna((olympic['Height'].median()), inplace=True)\n",
    "olympic['Weight'].fillna((olympic['Weight'].median()), inplace=True)"
   ]
  },
  {
   "cell_type": "code",
   "execution_count": 5,
   "metadata": {
    "collapsed": true
   },
   "outputs": [],
   "source": [
    "#If medals = Gold,Silver,and Bronze, change it to Win; Otherwise, Lose\n",
    "def medal(olympic):\n",
    "    if (olympic['Medal'] == 'Gold'):\n",
    "        return 'Win'\n",
    "    elif (olympic['Medal'] == 'Silver'):\n",
    "        return 'Win'\n",
    "    elif (olympic['Medal'] == 'Bronze'):\n",
    "        return 'Win'\n",
    "    else:\n",
    "        return 'Lose'"
   ]
  },
  {
   "cell_type": "code",
   "execution_count": 6,
   "metadata": {},
   "outputs": [
    {
     "name": "stderr",
     "output_type": "stream",
     "text": [
      "/Users/apple/anaconda3/lib/python3.6/site-packages/ipykernel_launcher.py:1: SettingWithCopyWarning: \n",
      "A value is trying to be set on a copy of a slice from a DataFrame.\n",
      "Try using .loc[row_indexer,col_indexer] = value instead\n",
      "\n",
      "See the caveats in the documentation: http://pandas.pydata.org/pandas-docs/stable/indexing.html#indexing-view-versus-copy\n",
      "  \"\"\"Entry point for launching an IPython kernel.\n"
     ]
    }
   ],
   "source": [
    "olympic['Medal'] = olympic.apply(medal, axis=1)\n",
    "#olympic.head()"
   ]
  },
  {
   "cell_type": "markdown",
   "metadata": {},
   "source": [
    "## 3. Get Dummies"
   ]
  },
  {
   "cell_type": "code",
   "execution_count": 7,
   "metadata": {
    "collapsed": true
   },
   "outputs": [],
   "source": [
    "sex = pd.get_dummies(olympic['Sex'],drop_first=True)\n",
    "noc = pd.get_dummies(olympic['NOC'],drop_first=True)\n",
    "sport = pd.get_dummies(olympic['Sport'],drop_first=True)"
   ]
  },
  {
   "cell_type": "code",
   "execution_count": 8,
   "metadata": {},
   "outputs": [
    {
     "name": "stderr",
     "output_type": "stream",
     "text": [
      "/Users/apple/anaconda3/lib/python3.6/site-packages/ipykernel_launcher.py:1: SettingWithCopyWarning: \n",
      "A value is trying to be set on a copy of a slice from a DataFrame\n",
      "\n",
      "See the caveats in the documentation: http://pandas.pydata.org/pandas-docs/stable/indexing.html#indexing-view-versus-copy\n",
      "  \"\"\"Entry point for launching an IPython kernel.\n"
     ]
    }
   ],
   "source": [
    "olympic.drop(['Sex','NOC','Sport'],axis=1,inplace=True)"
   ]
  },
  {
   "cell_type": "code",
   "execution_count": 9,
   "metadata": {
    "collapsed": true
   },
   "outputs": [],
   "source": [
    "olympic = pd.concat([olympic,sex,noc,sport],axis=1)"
   ]
  },
  {
   "cell_type": "markdown",
   "metadata": {},
   "source": [
    "## 4. Train_Test_Split"
   ]
  },
  {
   "cell_type": "code",
   "execution_count": 10,
   "metadata": {
    "collapsed": true
   },
   "outputs": [],
   "source": [
    "from sklearn.model_selection import train_test_split\n",
    "X_train, X_test, y_train, y_test = train_test_split(olympic.drop('Medal',axis=1), \n",
    "                                                    olympic['Medal'], test_size=0.30, \n",
    "                                                    random_state=101)"
   ]
  },
  {
   "cell_type": "markdown",
   "metadata": {},
   "source": [
    "## 5. Logistic Regression"
   ]
  },
  {
   "cell_type": "code",
   "execution_count": 11,
   "metadata": {},
   "outputs": [
    {
     "data": {
      "text/plain": [
       "85.790000000000006"
      ]
     },
     "execution_count": 11,
     "metadata": {},
     "output_type": "execute_result"
    }
   ],
   "source": [
    "from sklearn.linear_model import LogisticRegression\n",
    "logmodel = LogisticRegression()\n",
    "logmodel.fit(X_train,y_train)\n",
    "predictions = logmodel.predict(X_test)\n",
    "\n",
    "acc_log = round(logmodel.score(X_train, y_train) * 100, 2)\n",
    "acc_log"
   ]
  },
  {
   "cell_type": "markdown",
   "metadata": {},
   "source": [
    "## 6. Classification Report"
   ]
  },
  {
   "cell_type": "code",
   "execution_count": 12,
   "metadata": {},
   "outputs": [
    {
     "name": "stdout",
     "output_type": "stream",
     "text": [
      "             precision    recall  f1-score   support\n",
      "\n",
      "       Lose       0.86      0.99      0.92     69290\n",
      "        Win       0.59      0.07      0.13     12045\n",
      "\n",
      "avg / total       0.82      0.86      0.80     81335\n",
      "\n"
     ]
    }
   ],
   "source": [
    "from sklearn.metrics import classification_report\n",
    "print(classification_report(y_test,predictions))"
   ]
  },
  {
   "cell_type": "markdown",
   "metadata": {},
   "source": [
    "## 7. Coeeficients"
   ]
  },
  {
   "cell_type": "code",
   "execution_count": 13,
   "metadata": {
    "collapsed": true
   },
   "outputs": [],
   "source": [
    "coefficients = pd.DataFrame(logmodel.coef_[0], X_train.columns)\n",
    "coefficients.columns = ['Coefficient']"
   ]
  },
  {
   "cell_type": "code",
   "execution_count": 14,
   "metadata": {},
   "outputs": [
    {
     "data": {
      "text/html": [
       "<div>\n",
       "<style>\n",
       "    .dataframe thead tr:only-child th {\n",
       "        text-align: right;\n",
       "    }\n",
       "\n",
       "    .dataframe thead th {\n",
       "        text-align: left;\n",
       "    }\n",
       "\n",
       "    .dataframe tbody tr th {\n",
       "        vertical-align: top;\n",
       "    }\n",
       "</style>\n",
       "<table border=\"1\" class=\"dataframe\">\n",
       "  <thead>\n",
       "    <tr style=\"text-align: right;\">\n",
       "      <th></th>\n",
       "      <th>Coefficient</th>\n",
       "    </tr>\n",
       "  </thead>\n",
       "  <tbody>\n",
       "    <tr>\n",
       "      <th>Rugby</th>\n",
       "      <td>4.027950</td>\n",
       "    </tr>\n",
       "    <tr>\n",
       "      <th>Lacrosse</th>\n",
       "      <td>2.862200</td>\n",
       "    </tr>\n",
       "    <tr>\n",
       "      <th>URS</th>\n",
       "      <td>2.854091</td>\n",
       "    </tr>\n",
       "    <tr>\n",
       "      <th>GDR</th>\n",
       "      <td>2.622828</td>\n",
       "    </tr>\n",
       "    <tr>\n",
       "      <th>EUN</th>\n",
       "      <td>2.238801</td>\n",
       "    </tr>\n",
       "    <tr>\n",
       "      <th>USA</th>\n",
       "      <td>2.206552</td>\n",
       "    </tr>\n",
       "    <tr>\n",
       "      <th>Polo</th>\n",
       "      <td>2.100913</td>\n",
       "    </tr>\n",
       "    <tr>\n",
       "      <th>Tug-Of-War</th>\n",
       "      <td>1.833940</td>\n",
       "    </tr>\n",
       "    <tr>\n",
       "      <th>JAM</th>\n",
       "      <td>1.820038</td>\n",
       "    </tr>\n",
       "    <tr>\n",
       "      <th>Alpinism</th>\n",
       "      <td>1.794265</td>\n",
       "    </tr>\n",
       "    <tr>\n",
       "      <th>NOR</th>\n",
       "      <td>1.792617</td>\n",
       "    </tr>\n",
       "    <tr>\n",
       "      <th>RUS</th>\n",
       "      <td>1.744031</td>\n",
       "    </tr>\n",
       "    <tr>\n",
       "      <th>GER</th>\n",
       "      <td>1.721735</td>\n",
       "    </tr>\n",
       "    <tr>\n",
       "      <th>Cricket</th>\n",
       "      <td>1.580276</td>\n",
       "    </tr>\n",
       "    <tr>\n",
       "      <th>FIN</th>\n",
       "      <td>1.567854</td>\n",
       "    </tr>\n",
       "    <tr>\n",
       "      <th>ETH</th>\n",
       "      <td>1.523117</td>\n",
       "    </tr>\n",
       "    <tr>\n",
       "      <th>SWE</th>\n",
       "      <td>1.522365</td>\n",
       "    </tr>\n",
       "    <tr>\n",
       "      <th>HUN</th>\n",
       "      <td>1.451082</td>\n",
       "    </tr>\n",
       "    <tr>\n",
       "      <th>CHN</th>\n",
       "      <td>1.443520</td>\n",
       "    </tr>\n",
       "    <tr>\n",
       "      <th>CRO</th>\n",
       "      <td>1.410971</td>\n",
       "    </tr>\n",
       "    <tr>\n",
       "      <th>FRG</th>\n",
       "      <td>1.397457</td>\n",
       "    </tr>\n",
       "    <tr>\n",
       "      <th>GBR</th>\n",
       "      <td>1.335772</td>\n",
       "    </tr>\n",
       "    <tr>\n",
       "      <th>ITA</th>\n",
       "      <td>1.286587</td>\n",
       "    </tr>\n",
       "    <tr>\n",
       "      <th>NED</th>\n",
       "      <td>1.275363</td>\n",
       "    </tr>\n",
       "    <tr>\n",
       "      <th>SRB</th>\n",
       "      <td>1.271687</td>\n",
       "    </tr>\n",
       "    <tr>\n",
       "      <th>PAK</th>\n",
       "      <td>1.247243</td>\n",
       "    </tr>\n",
       "    <tr>\n",
       "      <th>AUS</th>\n",
       "      <td>1.232465</td>\n",
       "    </tr>\n",
       "    <tr>\n",
       "      <th>FRA</th>\n",
       "      <td>1.226820</td>\n",
       "    </tr>\n",
       "    <tr>\n",
       "      <th>ROU</th>\n",
       "      <td>1.202253</td>\n",
       "    </tr>\n",
       "    <tr>\n",
       "      <th>DEN</th>\n",
       "      <td>1.162605</td>\n",
       "    </tr>\n",
       "    <tr>\n",
       "      <th>...</th>\n",
       "      <td>...</td>\n",
       "    </tr>\n",
       "    <tr>\n",
       "      <th>CRC</th>\n",
       "      <td>-0.928696</td>\n",
       "    </tr>\n",
       "    <tr>\n",
       "      <th>BAR</th>\n",
       "      <td>-0.943688</td>\n",
       "    </tr>\n",
       "    <tr>\n",
       "      <th>Freestyle Skiing</th>\n",
       "      <td>-0.959901</td>\n",
       "    </tr>\n",
       "    <tr>\n",
       "      <th>ECU</th>\n",
       "      <td>-0.969594</td>\n",
       "    </tr>\n",
       "    <tr>\n",
       "      <th>Nordic Combined</th>\n",
       "      <td>-1.003001</td>\n",
       "    </tr>\n",
       "    <tr>\n",
       "      <th>ESA</th>\n",
       "      <td>-1.026039</td>\n",
       "    </tr>\n",
       "    <tr>\n",
       "      <th>ISV</th>\n",
       "      <td>-1.052869</td>\n",
       "    </tr>\n",
       "    <tr>\n",
       "      <th>VEN</th>\n",
       "      <td>-1.076200</td>\n",
       "    </tr>\n",
       "    <tr>\n",
       "      <th>Snowboarding</th>\n",
       "      <td>-1.096435</td>\n",
       "    </tr>\n",
       "    <tr>\n",
       "      <th>HON</th>\n",
       "      <td>-1.124282</td>\n",
       "    </tr>\n",
       "    <tr>\n",
       "      <th>Triathlon</th>\n",
       "      <td>-1.124792</td>\n",
       "    </tr>\n",
       "    <tr>\n",
       "      <th>Ski Jumping</th>\n",
       "      <td>-1.142770</td>\n",
       "    </tr>\n",
       "    <tr>\n",
       "      <th>KUW</th>\n",
       "      <td>-1.155502</td>\n",
       "    </tr>\n",
       "    <tr>\n",
       "      <th>ISR</th>\n",
       "      <td>-1.170762</td>\n",
       "    </tr>\n",
       "    <tr>\n",
       "      <th>Gymnastics</th>\n",
       "      <td>-1.180441</td>\n",
       "    </tr>\n",
       "    <tr>\n",
       "      <th>Speed Skating</th>\n",
       "      <td>-1.224057</td>\n",
       "    </tr>\n",
       "    <tr>\n",
       "      <th>TUN</th>\n",
       "      <td>-1.240576</td>\n",
       "    </tr>\n",
       "    <tr>\n",
       "      <th>Biathlon</th>\n",
       "      <td>-1.252630</td>\n",
       "    </tr>\n",
       "    <tr>\n",
       "      <th>PHI</th>\n",
       "      <td>-1.264875</td>\n",
       "    </tr>\n",
       "    <tr>\n",
       "      <th>IRQ</th>\n",
       "      <td>-1.281439</td>\n",
       "    </tr>\n",
       "    <tr>\n",
       "      <th>Cross Country Skiing</th>\n",
       "      <td>-1.312635</td>\n",
       "    </tr>\n",
       "    <tr>\n",
       "      <th>GUA</th>\n",
       "      <td>-1.372423</td>\n",
       "    </tr>\n",
       "    <tr>\n",
       "      <th>EGY</th>\n",
       "      <td>-1.410917</td>\n",
       "    </tr>\n",
       "    <tr>\n",
       "      <th>SEN</th>\n",
       "      <td>-1.423752</td>\n",
       "    </tr>\n",
       "    <tr>\n",
       "      <th>LUX</th>\n",
       "      <td>-1.489843</td>\n",
       "    </tr>\n",
       "    <tr>\n",
       "      <th>PUR</th>\n",
       "      <td>-1.512325</td>\n",
       "    </tr>\n",
       "    <tr>\n",
       "      <th>HKG</th>\n",
       "      <td>-1.553461</td>\n",
       "    </tr>\n",
       "    <tr>\n",
       "      <th>Alpine Skiing</th>\n",
       "      <td>-1.595756</td>\n",
       "    </tr>\n",
       "    <tr>\n",
       "      <th>ANG</th>\n",
       "      <td>-1.642128</td>\n",
       "    </tr>\n",
       "    <tr>\n",
       "      <th>Art Competitions</th>\n",
       "      <td>-2.254792</td>\n",
       "    </tr>\n",
       "  </tbody>\n",
       "</table>\n",
       "<p>298 rows × 1 columns</p>\n",
       "</div>"
      ],
      "text/plain": [
       "                      Coefficient\n",
       "Rugby                    4.027950\n",
       "Lacrosse                 2.862200\n",
       "URS                      2.854091\n",
       "GDR                      2.622828\n",
       "EUN                      2.238801\n",
       "USA                      2.206552\n",
       "Polo                     2.100913\n",
       "Tug-Of-War               1.833940\n",
       "JAM                      1.820038\n",
       "Alpinism                 1.794265\n",
       "NOR                      1.792617\n",
       "RUS                      1.744031\n",
       "GER                      1.721735\n",
       "Cricket                  1.580276\n",
       "FIN                      1.567854\n",
       "ETH                      1.523117\n",
       "SWE                      1.522365\n",
       "HUN                      1.451082\n",
       "CHN                      1.443520\n",
       "CRO                      1.410971\n",
       "FRG                      1.397457\n",
       "GBR                      1.335772\n",
       "ITA                      1.286587\n",
       "NED                      1.275363\n",
       "SRB                      1.271687\n",
       "PAK                      1.247243\n",
       "AUS                      1.232465\n",
       "FRA                      1.226820\n",
       "ROU                      1.202253\n",
       "DEN                      1.162605\n",
       "...                           ...\n",
       "CRC                     -0.928696\n",
       "BAR                     -0.943688\n",
       "Freestyle Skiing        -0.959901\n",
       "ECU                     -0.969594\n",
       "Nordic Combined         -1.003001\n",
       "ESA                     -1.026039\n",
       "ISV                     -1.052869\n",
       "VEN                     -1.076200\n",
       "Snowboarding            -1.096435\n",
       "HON                     -1.124282\n",
       "Triathlon               -1.124792\n",
       "Ski Jumping             -1.142770\n",
       "KUW                     -1.155502\n",
       "ISR                     -1.170762\n",
       "Gymnastics              -1.180441\n",
       "Speed Skating           -1.224057\n",
       "TUN                     -1.240576\n",
       "Biathlon                -1.252630\n",
       "PHI                     -1.264875\n",
       "IRQ                     -1.281439\n",
       "Cross Country Skiing    -1.312635\n",
       "GUA                     -1.372423\n",
       "EGY                     -1.410917\n",
       "SEN                     -1.423752\n",
       "LUX                     -1.489843\n",
       "PUR                     -1.512325\n",
       "HKG                     -1.553461\n",
       "Alpine Skiing           -1.595756\n",
       "ANG                     -1.642128\n",
       "Art Competitions        -2.254792\n",
       "\n",
       "[298 rows x 1 columns]"
      ]
     },
     "execution_count": 14,
     "metadata": {},
     "output_type": "execute_result"
    }
   ],
   "source": [
    "coefficients.sort_values(by='Coefficient', ascending=False)"
   ]
  }
 ],
 "metadata": {
  "kernelspec": {
   "display_name": "Python 3",
   "language": "python",
   "name": "python3"
  },
  "language_info": {
   "codemirror_mode": {
    "name": "ipython",
    "version": 3
   },
   "file_extension": ".py",
   "mimetype": "text/x-python",
   "name": "python",
   "nbconvert_exporter": "python",
   "pygments_lexer": "ipython3",
   "version": "3.6.3"
  }
 },
 "nbformat": 4,
 "nbformat_minor": 2
}
